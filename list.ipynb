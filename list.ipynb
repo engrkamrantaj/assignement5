{
 "cells": [
  {
   "cell_type": "code",
   "execution_count": 7,
   "metadata": {},
   "outputs": [],
   "source": [
    "names:list=[\"uzair\",\"umair\",\"saad\",\"sarosh\",\"bilal\"]"
   ]
  },
  {
   "cell_type": "code",
   "execution_count": 12,
   "metadata": {},
   "outputs": [
    {
     "name": "stdout",
     "output_type": "stream",
     "text": [
      "uzair\n",
      "umair\n",
      "saad\n",
      "sarosh\n",
      "bilal\n"
     ]
    }
   ],
   "source": [
    "#3-1 Names\n",
    "print(names[0])\n",
    "print(names[1])\n",
    "print(names[2])\n",
    "print(names[3])\n",
    "print(names[4])"
   ]
  },
  {
   "cell_type": "code",
   "execution_count": null,
   "metadata": {},
   "outputs": [],
   "source": []
  },
  {
   "cell_type": "code",
   "execution_count": null,
   "metadata": {},
   "outputs": [],
   "source": []
  },
  {
   "cell_type": "code",
   "execution_count": 15,
   "metadata": {},
   "outputs": [
    {
     "name": "stdout",
     "output_type": "stream",
     "text": [
      "uzair enjoy your life\n",
      "umair enjoy your life\n",
      "saad enjoy your life\n",
      "sarosh enjoy your life\n",
      "bilal enjoy your life\n"
     ]
    }
   ],
   "source": [
    "#3-2 Greetings\n",
    "print(f\"{names[0]} enjoy your life\")\n",
    "print(f\"{names[1]} enjoy your life\")\n",
    "print(f\"{names[2]} enjoy your life\")\n",
    "print(f\"{names[3]} enjoy your life\")\n",
    "print(f\"{names[4]} enjoy your life\")"
   ]
  },
  {
   "cell_type": "code",
   "execution_count": 18,
   "metadata": {},
   "outputs": [
    {
     "name": "stdout",
     "output_type": "stream",
     "text": [
      "I will like to buy a honda bike\n",
      "I will like to buy a suzuki bike\n",
      "I will like to buy a yamaha bike\n"
     ]
    }
   ],
   "source": [
    "#3-3\n",
    "vehicle:list = [\"honda\",\"suzuki\",\"yamaha\"]\n",
    "\n",
    "print(f\"I will like to buy a {vehicle[0]} bike\")\n",
    "print(f\"I will like to buy a {vehicle[1]} bike\")\n",
    "print(f\"I will like to buy a {vehicle[2]} bike\")"
   ]
  },
  {
   "cell_type": "code",
   "execution_count": 47,
   "metadata": {},
   "outputs": [
    {
     "name": "stdout",
     "output_type": "stream",
     "text": [
      "umair you are invited to dinner\n",
      "uzair you are invited to dinner\n",
      "sarosh you are invited to dinner\n",
      "['umair', 'uzair', 'sarosh']\n",
      "uzair cant make it and will be replaced by ronaldo\n",
      "['umair', 'ronaldo', 'sarosh']\n",
      "I found a bigger table\n",
      "['neo', 'umair', 'trinity', 'ronaldo', 'sarosh', 'messi']\n"
     ]
    }
   ],
   "source": [
    "# 3-4 , 3-5 3-6\n",
    "person: list = [\"umair\", \"uzair\", \"sarosh\"]\n",
    "\n",
    "print(f\"{person[0]} you are invited to dinner\")\n",
    "print(f\"{person[1]} you are invited to dinner\")\n",
    "print(f\"{person[2]} you are invited to dinner\")\n",
    "\n",
    "print(person)\n",
    "\n",
    "print(\"uzair cant make it and will be replaced by ronaldo\")\n",
    "\n",
    "person[1]=\"ronaldo\"\n",
    "\n",
    "print(person)\n",
    "\n",
    "print(\"I found a bigger table\")\n",
    "\n",
    "person.insert(0,\"neo\")\n",
    "person.insert(2,\"trinity\")\n",
    "person.append(\"messi\")\n",
    "\n",
    "print(person)"
   ]
  },
  {
   "cell_type": "code",
   "execution_count": 48,
   "metadata": {},
   "outputs": [
    {
     "name": "stdout",
     "output_type": "stream",
     "text": [
      "you can invite only two persons\n",
      "messi sorry you have been removed from the list\n",
      "sarosh sorry you have been removed from the list\n",
      "ronaldo sorry you have been removed from the list\n",
      "trinity sorry you have been removed from the list\n",
      "['neo', 'umair'] you are invited to the party\n"
     ]
    },
    {
     "ename": "NameError",
     "evalue": "name 'person' is not defined",
     "output_type": "error",
     "traceback": [
      "\u001b[1;31m---------------------------------------------------------------------------\u001b[0m",
      "\u001b[1;31mNameError\u001b[0m                                 Traceback (most recent call last)",
      "Cell \u001b[1;32mIn[48], line 10\u001b[0m\n\u001b[0;32m      8\u001b[0m \u001b[38;5;28mprint\u001b[39m(\u001b[38;5;124mf\u001b[39m\u001b[38;5;124m\"\u001b[39m\u001b[38;5;132;01m{\u001b[39;00mperson\u001b[38;5;132;01m}\u001b[39;00m\u001b[38;5;124m you are invited to the party\u001b[39m\u001b[38;5;124m\"\u001b[39m)\n\u001b[0;32m      9\u001b[0m \u001b[38;5;28;01mdel\u001b[39;00m(person)\n\u001b[1;32m---> 10\u001b[0m \u001b[38;5;28mprint\u001b[39m(\u001b[43mperson\u001b[49m)\n",
      "\u001b[1;31mNameError\u001b[0m: name 'person' is not defined"
     ]
    }
   ],
   "source": [
    "#3-7\n",
    "print(\"you can invite only two persons\")\n",
    "for i in range(0,4):\n",
    "    a = person.pop()\n",
    "    print(f\"{a} sorry you have been removed from the list\")\n",
    "\n",
    "\n",
    "print(f\"{person} you are invited to the party\")\n",
    "del person[:]\n",
    "print(person)"
   ]
  },
  {
   "cell_type": "code",
   "execution_count": null,
   "metadata": {},
   "outputs": [],
   "source": []
  }
 ],
 "metadata": {
  "kernelspec": {
   "display_name": "Python 3",
   "language": "python",
   "name": "python3"
  },
  "language_info": {
   "codemirror_mode": {
    "name": "ipython",
    "version": 3
   },
   "file_extension": ".py",
   "mimetype": "text/x-python",
   "name": "python",
   "nbconvert_exporter": "python",
   "pygments_lexer": "ipython3",
   "version": "3.12.4"
  }
 },
 "nbformat": 4,
 "nbformat_minor": 2
}
